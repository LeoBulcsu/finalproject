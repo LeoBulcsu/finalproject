{
 "cells": [
  {
   "cell_type": "code",
   "execution_count": 1,
   "metadata": {},
   "outputs": [],
   "source": [
    "import pandas as pd\n",
    "import numpy as np\n",
    "import re"
   ]
  },
  {
   "cell_type": "code",
   "execution_count": 2,
   "metadata": {},
   "outputs": [],
   "source": [
    "wl_cams = pd.read_json('../data/WELAB/welab_cameras.json')\n",
    "wl_lens = pd.read_json('../data/WELAB/welab_lenses.json')\n",
    "wl_audio = pd.read_json('../data/WELAB/welab_audio.json')\n",
    "wl_lights = pd.read_json('../data/WELAB/welab_lights.json')"
   ]
  },
  {
   "cell_type": "code",
   "execution_count": 3,
   "metadata": {},
   "outputs": [],
   "source": [
    "rc_cams = pd.read_json('../data/RC SERVICE/rcservice_cameras.json')\n",
    "rc_lenses = pd.read_json('../data/RC SERVICE/rcservice_lenses.json')"
   ]
  },
  {
   "cell_type": "code",
   "execution_count": 4,
   "metadata": {},
   "outputs": [],
   "source": [
    "ov_cams = pd.read_json('../data/OVIDE/ovide_cameras.json')\n",
    "ov_lights = pd.read_json('../data/OVIDE/ovide_lights.json')\n",
    "ov_lenses = pd.read_json('../data/OVIDE/ovide_lenses.json')\n",
    "ov_audio = pd.read_json('../data/OVIDE/ovide_audio.json')"
   ]
  },
  {
   "cell_type": "code",
   "execution_count": null,
   "metadata": {},
   "outputs": [],
   "source": []
  },
  {
   "cell_type": "code",
   "execution_count": null,
   "metadata": {},
   "outputs": [],
   "source": []
  }
 ],
 "metadata": {
  "kernelspec": {
   "display_name": "finalProject",
   "language": "python",
   "name": "python3"
  },
  "language_info": {
   "codemirror_mode": {
    "name": "ipython",
    "version": 3
   },
   "file_extension": ".py",
   "mimetype": "text/x-python",
   "name": "python",
   "nbconvert_exporter": "python",
   "pygments_lexer": "ipython3",
   "version": "3.11.5"
  }
 },
 "nbformat": 4,
 "nbformat_minor": 2
}
