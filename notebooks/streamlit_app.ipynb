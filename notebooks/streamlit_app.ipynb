{
 "cells": [
  {
   "cell_type": "markdown",
   "metadata": {},
   "source": [
    "# AHAB - StreamlitApp"
   ]
  },
  {
   "cell_type": "code",
   "execution_count": null,
   "metadata": {},
   "outputs": [],
   "source": [
    "import folium\n",
    "import json\n",
    "\n",
    "# Load rental_places.json with latitudes and longitudes\n",
    "with open('../data/CLEAN/rental_places.json', 'r') as file:\n",
    "    rental_places = json.load(file)\n",
    "\n",
    "def display_map():\n",
    "    m = folium.Map(location=[40.416840, -3.703410], zoom_start=12)  # Initial map centered at a location\n",
    "\n",
    "    # Add markers for rental shop locations\n",
    "    for place in rental_places:\n",
    "        lat = place['latitude']\n",
    "        lon = place['longitude']\n",
    "        name = place['name']\n",
    "        folium.Marker([lat, lon], popup=name).add_to(m)\n"
   ]
  },
  {
   "cell_type": "code",
   "execution_count": null,
   "metadata": {},
   "outputs": [],
   "source": []
  }
 ],
 "metadata": {
  "kernelspec": {
   "display_name": "finalProject",
   "language": "python",
   "name": "python3"
  },
  "language_info": {
   "codemirror_mode": {
    "name": "ipython",
    "version": 3
   },
   "file_extension": ".py",
   "mimetype": "text/x-python",
   "name": "python",
   "nbconvert_exporter": "python",
   "pygments_lexer": "ipython3",
   "version": "3.11.5"
  }
 },
 "nbformat": 4,
 "nbformat_minor": 2
}
