{
 "cells": [
  {
   "cell_type": "markdown",
   "metadata": {},
   "source": [
    "# AHAB app Functions"
   ]
  },
  {
   "cell_type": "markdown",
   "metadata": {},
   "source": [
    "In this notebook I will be testing the different functions needed to build up the app"
   ]
  },
  {
   "cell_type": "code",
   "execution_count": 2,
   "metadata": {},
   "outputs": [],
   "source": [
    "import pandas as pd\n",
    "import numpy as np\n",
    "from fuzzywuzzy import fuzz, process\n",
    "import json"
   ]
  },
  {
   "cell_type": "code",
   "execution_count": 16,
   "metadata": {},
   "outputs": [],
   "source": [
    "with open('../data/CLEAN/audio_df.json', 'r') as audio:\n",
    "    audio_products = json.load(audio)\n",
    "\n",
    "with open('../data/CLEAN/camera_df.json', 'r') as cameras:\n",
    "    camera_products = json.load(cameras)\n",
    "\n",
    "with open('../data/CLEAN/lens_df.json', 'r') as lenses:\n",
    "    lens_products = json.load(lenses)\n",
    "\n",
    "with open('../data/CLEAN/lights_df.json', 'r') as lights:\n",
    "    light_products = json.load(lights)\n",
    "\n",
    "with open('../data/CLEAN/rental_places.json', 'r') as places:\n",
    "    rental_places = json.load(places)"
   ]
  },
  {
   "cell_type": "code",
   "execution_count": 28,
   "metadata": {},
   "outputs": [
    {
     "name": "stdout",
     "output_type": "stream",
     "text": [
      "WELAB\n",
      "RC SERVICE\n",
      "OVIDE\n"
     ]
    }
   ],
   "source": [
    "for i in range(len(rental_places)):\n",
    "    print(rental_places[i]['rental_place_name'])"
   ]
  },
  {
   "cell_type": "code",
   "execution_count": 17,
   "metadata": {},
   "outputs": [],
   "source": [
    "audiodf = pd.DataFrame(audio_products)\n",
    "camerasdf = pd.DataFrame(camera_products)\n",
    "lensesdf = pd.DataFrame(lens_products)\n",
    "lightsdf = pd.DataFrame(light_products)\n",
    "rentaldf = pd.DataFrame(rental_places)"
   ]
  },
  {
   "cell_type": "code",
   "execution_count": 8,
   "metadata": {},
   "outputs": [],
   "source": [
    "products_dataframes = [audiodf, camerasdf, lensesdf, lightsdf, rentaldf]"
   ]
  },
  {
   "cell_type": "code",
   "execution_count": 51,
   "metadata": {},
   "outputs": [],
   "source": [
    "user_input_list = input('Feed me your needs: ').split(',')"
   ]
  },
  {
   "cell_type": "code",
   "execution_count": 52,
   "metadata": {},
   "outputs": [
    {
     "data": {
      "text/plain": [
       "['df hsfve jsdb', ' jhdbhsjfbsd', ' njsdbjf. jdsbfhjbds']"
      ]
     },
     "execution_count": 52,
     "metadata": {},
     "output_type": "execute_result"
    }
   ],
   "source": [
    "user_input_list"
   ]
  },
  {
   "cell_type": "code",
   "execution_count": null,
   "metadata": {},
   "outputs": [],
   "source": [
    "# Function to process user input and find matching products\n",
    "def process_user_input(user_input_list, products_dataframes):\n",
    "    \n",
    "    # Iterate through each product DataFrame\n",
    "    for product_name, product_df in products_dataframes.items():\n",
    "        matching_products = find_matching_products(user_input_tokens, product_df)\n",
    "        \n",
    "        if matching_products:\n",
    "            for product in matching_products:\n",
    "                rental_place_id = product['rental_place_id']\n",
    "                rental_place_info = get_rental_place_info(rental_place_id, rental_place_df)\n",
    "                \n",
    "                # Display or store rental place information\n",
    "                display_rental_place_info(rental_place_info)\n",
    "                # You can modify this part to return"
   ]
  },
  {
   "cell_type": "code",
   "execution_count": null,
   "metadata": {},
   "outputs": [],
   "source": [
    "def find_matching_products(user_input_tokens, products_df):\n",
    "    \n",
    "    matching_products = []\n",
    "    \n",
    "    for idx, row in products_df.iterrows():\n",
    "        product_tokens = row['tokens']  # Tokens from product DataFrame\n",
    "        \n",
    "        # Perform fuzzy matching between user input tokens and product tokens\n",
    "        for user_token in user_input_tokens:\n",
    "            for product_token in product_tokens:\n",
    "                similarity_score = fuzz.ratio(user_token, product_token)\n",
    "                \n",
    "                # Set a threshold for similarity scores\n",
    "                if similarity_score > 90:\n",
    "                    matching_products.append({\n",
    "                        'product_id': row['product_id'],\n",
    "                        'rental_place_id': row['rental_place_id']\n",
    "                    })\n",
    "                    break  # Move to the next product\n",
    "            \n",
    "            if matching_products:  # Break out of the loop if a match is found\n",
    "                break\n",
    "    \n",
    "    return matching_products\n"
   ]
  },
  {
   "cell_type": "code",
   "execution_count": null,
   "metadata": {},
   "outputs": [],
   "source": [
    "def get_rental_place_info(rental_place_id):\n",
    "    # Retrieve detailed rental place information based on rental_place_id\n",
    "    \n",
    "    rental_place_info = rentaldf[rentaldf['rental_place_id'] == str(rental_place_id)][['rental_place_name', 'address', 'email','phone','website']]\n",
    "    \n",
    "    return rental_place_info"
   ]
  },
  {
   "cell_type": "code",
   "execution_count": null,
   "metadata": {},
   "outputs": [
    {
     "data": {
      "text/html": [
       "<div>\n",
       "<style scoped>\n",
       "    .dataframe tbody tr th:only-of-type {\n",
       "        vertical-align: middle;\n",
       "    }\n",
       "\n",
       "    .dataframe tbody tr th {\n",
       "        vertical-align: top;\n",
       "    }\n",
       "\n",
       "    .dataframe thead th {\n",
       "        text-align: right;\n",
       "    }\n",
       "</style>\n",
       "<table border=\"1\" class=\"dataframe\">\n",
       "  <thead>\n",
       "    <tr style=\"text-align: right;\">\n",
       "      <th></th>\n",
       "      <th>rental_place_name</th>\n",
       "      <th>address</th>\n",
       "      <th>email</th>\n",
       "      <th>phone</th>\n",
       "      <th>website</th>\n",
       "    </tr>\n",
       "  </thead>\n",
       "  <tbody>\n",
       "    <tr>\n",
       "      <th>1</th>\n",
       "      <td>RC SERVICE</td>\n",
       "      <td>Avda. Prado del Espino, 1, 28660, Boadilla del...</td>\n",
       "      <td>info@rcservice.es</td>\n",
       "      <td>0034 911855868</td>\n",
       "      <td>https://www.rcservice.es</td>\n",
       "    </tr>\n",
       "  </tbody>\n",
       "</table>\n",
       "</div>"
      ],
      "text/plain": [
       "  rental_place_name                                            address  \\\n",
       "1        RC SERVICE  Avda. Prado del Espino, 1, 28660, Boadilla del...   \n",
       "\n",
       "               email           phone                   website  \n",
       "1  info@rcservice.es  0034 911855868  https://www.rcservice.es  "
      ]
     },
     "metadata": {},
     "output_type": "display_data"
    }
   ],
   "source": [
    "get_rental_place_info(2)"
   ]
  }
 ],
 "metadata": {
  "kernelspec": {
   "display_name": "finalProject",
   "language": "python",
   "name": "python3"
  },
  "language_info": {
   "codemirror_mode": {
    "name": "ipython",
    "version": 3
   },
   "file_extension": ".py",
   "mimetype": "text/x-python",
   "name": "python",
   "nbconvert_exporter": "python",
   "pygments_lexer": "ipython3",
   "version": "3.11.5"
  }
 },
 "nbformat": 4,
 "nbformat_minor": 2
}
