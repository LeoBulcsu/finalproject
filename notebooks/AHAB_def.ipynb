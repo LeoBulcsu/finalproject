{
 "cells": [
  {
   "cell_type": "markdown",
   "metadata": {},
   "source": [
    "# AHAB app Functions"
   ]
  },
  {
   "cell_type": "markdown",
   "metadata": {},
   "source": [
    "In this notebook I will be testing the different functions needed to build up the app"
   ]
  },
  {
   "cell_type": "code",
   "execution_count": 172,
   "metadata": {},
   "outputs": [],
   "source": [
    "import pandas as pd\n",
    "import numpy as np\n",
    "from fuzzywuzzy import fuzz, process\n",
    "import json"
   ]
  },
  {
   "cell_type": "code",
   "execution_count": 173,
   "metadata": {},
   "outputs": [],
   "source": [
    "with open('../data/CLEAN/audio_df.json', 'r') as audio:\n",
    "    audio_products = json.load(audio)\n",
    "\n",
    "with open('../data/CLEAN/camera_df.json', 'r') as cameras:\n",
    "    camera_products = json.load(cameras)\n",
    "\n",
    "with open('../data/CLEAN/lens_df.json', 'r') as lenses:\n",
    "    lens_products = json.load(lenses)\n",
    "\n",
    "with open('../data/CLEAN/lights_df.json', 'r') as lights:\n",
    "    light_products = json.load(lights)\n",
    "\n",
    "with open('../data/CLEAN/rental_places.json', 'r') as places:\n",
    "    rental_places = json.load(places)"
   ]
  },
  {
   "cell_type": "code",
   "execution_count": 174,
   "metadata": {},
   "outputs": [],
   "source": [
    "audiodf = pd.DataFrame(audio_products)\n",
    "camerasdf = pd.DataFrame(camera_products)\n",
    "lensesdf = pd.DataFrame(lens_products)\n",
    "lightsdf = pd.DataFrame(light_products)\n",
    "rentaldf = pd.DataFrame(rental_places)"
   ]
  },
  {
   "cell_type": "code",
   "execution_count": 175,
   "metadata": {},
   "outputs": [],
   "source": [
    "products_dataframes = [audiodf, camerasdf, lensesdf, lightsdf]"
   ]
  },
  {
   "cell_type": "code",
   "execution_count": 220,
   "metadata": {},
   "outputs": [],
   "source": [
    "user_input_list = input('Feed me your needs: ').lower().split(',')"
   ]
  },
  {
   "cell_type": "code",
   "execution_count": 221,
   "metadata": {},
   "outputs": [
    {
     "data": {
      "text/plain": [
       "['arri alexa 35', 'arri/zeiss masterprime 18mm t1.3', ' zoom h6']"
      ]
     },
     "execution_count": 221,
     "metadata": {},
     "output_type": "execute_result"
    }
   ],
   "source": [
    "user_input_list"
   ]
  },
  {
   "cell_type": "code",
   "execution_count": 222,
   "metadata": {},
   "outputs": [
    {
     "data": {
      "text/plain": [
       "[['arri', 'alexa', '35'],\n",
       " ['arri/zeiss', 'masterprime', '18mm', 't1.3'],\n",
       " ['', 'zoom', 'h6']]"
      ]
     },
     "execution_count": 222,
     "metadata": {},
     "output_type": "execute_result"
    }
   ],
   "source": [
    "products = []\n",
    "for i in range(len(user_input_list)):\n",
    "\n",
    "    products.append(user_input_list[i].split(' '))\n",
    "\n",
    "products"
   ]
  },
  {
   "cell_type": "code",
   "execution_count": 223,
   "metadata": {},
   "outputs": [],
   "source": [
    "def find_products_in_dataframes(products):\n",
    "\n",
    "    product_dict = {}\n",
    "    \n",
    "    for category, df in zip(['Audio', 'Cameras', 'Lenses', 'Lights'], [audiodf, camerasdf, lensesdf, lightsdf]):\n",
    "        \n",
    "        found_products = []\n",
    "        \n",
    "        for product in products:\n",
    "            # Use fuzzy matching to find similar products\n",
    "            \n",
    "            found = df[df['name'].apply(lambda x: fuzz.partial_ratio(x, product)) > 95]['rental_place_id'].tolist()\n",
    "            \n",
    "            found_products.extend(found)\n",
    "        \n",
    "        product_dict[category] = found_products\n",
    "    \n",
    "    return product_dict\n"
   ]
  },
  {
   "cell_type": "code",
   "execution_count": 224,
   "metadata": {},
   "outputs": [
    {
     "data": {
      "text/plain": [
       "{'Audio': [1, 3], 'Cameras': [1, 2, 3], 'Lenses': [2], 'Lights': []}"
      ]
     },
     "execution_count": 224,
     "metadata": {},
     "output_type": "execute_result"
    }
   ],
   "source": [
    "find_products_in_dataframes(user_input_list)"
   ]
  },
  {
   "cell_type": "code",
   "execution_count": null,
   "metadata": {},
   "outputs": [],
   "source": [
    "def AHABfinder(list_of_products):\n",
    "\n",
    "    list_of_products.split(',')\n",
    "\n",
    "    for i in range(len(list_of_products)):\n",
    "\n",
    "        products = list_of_products[i].split(' ')\n"
   ]
  },
  {
   "cell_type": "code",
   "execution_count": null,
   "metadata": {},
   "outputs": [],
   "source": []
  },
  {
   "cell_type": "code",
   "execution_count": null,
   "metadata": {},
   "outputs": [],
   "source": []
  },
  {
   "cell_type": "code",
   "execution_count": null,
   "metadata": {},
   "outputs": [],
   "source": []
  },
  {
   "cell_type": "code",
   "execution_count": null,
   "metadata": {},
   "outputs": [],
   "source": []
  },
  {
   "cell_type": "code",
   "execution_count": null,
   "metadata": {},
   "outputs": [],
   "source": []
  },
  {
   "cell_type": "code",
   "execution_count": null,
   "metadata": {},
   "outputs": [],
   "source": []
  },
  {
   "cell_type": "code",
   "execution_count": 176,
   "metadata": {},
   "outputs": [],
   "source": [
    "# # Function for matching products by token\n",
    "\n",
    "# def find_matching_products(user_tokens, df):\n",
    "    \n",
    "#     matching_products = []   \n",
    "\n",
    "#     for idx, row in df.iterrows():\n",
    "\n",
    "#         product_tokens = row['tokens']  # Tokens from product DataFrame\n",
    "        \n",
    "#         similarity_score = fuzz.ratio(user_tokens, product_tokens)\n",
    "        \n",
    "#         # Set a threshold for similarity scores\n",
    "#         if similarity_score > 95:\n",
    "#             matching_products.append({\n",
    "#                 'product_id': row['matched_id'],\n",
    "#                 'rental_place_id': row['rental_place_id']\n",
    "#             })  \n",
    "#             # Move to the next product\n",
    "\n",
    "#     return matching_products\n",
    "\n",
    "# # Retrieve detailed rental place information based on rental_place_id\n",
    "\n",
    "# def get_rental_place_info(rental_place_id):\n",
    "    \n",
    "#     rental_place_info = rentaldf[rentaldf['rental_place_id'] == str(rental_place_id)][['rental_place_name', 'address', 'email','phone','website']]\n",
    "    \n",
    "#     return rental_place_info\n",
    "\n",
    "# # Function to process user input and find matching products\n",
    "\n",
    "# def process_user_input(user_input_list):\n",
    "    \n",
    "#     for i in range(len(user_input_list)):\n",
    "#         tokens = user_input_list[i].lower().split(' ')\n",
    "\n",
    "#     # Iterate through each product DataFrame\n",
    "#     for df in products_dataframes:\n",
    "\n",
    "#         matching_products = find_matching_products(tokens, df)\n",
    "        \n",
    "#         if matching_products:\n",
    "#             for product in matching_products:\n",
    "#                 rental_place_id = product['rental_place_id']\n",
    "#                 rental_place_info = get_rental_place_info(rental_place_id)\n",
    "                \n",
    "#                 # Display or store rental place information\n",
    "#                 return rental_place_info\n",
    "            "
   ]
  },
  {
   "cell_type": "code",
   "execution_count": 177,
   "metadata": {},
   "outputs": [],
   "source": [
    "# from collections import defaultdict\n",
    "\n",
    "# # Function for matching products by token\n",
    "\n",
    "# def find_matching_products(user_tokens, df):\n",
    "#     matching_products = defaultdict(int)  # Use defaultdict to count products per place\n",
    "    \n",
    "#     for idx, row in df.iterrows():\n",
    "#         product_tokens = row['tokens']  # Tokens from product DataFrame\n",
    "#         similarity_score = fuzz.ratio(user_tokens, product_tokens)\n",
    "        \n",
    "#         # Set a threshold for similarity scores\n",
    "#         if similarity_score > 95:\n",
    "#             matching_products[row['rental_place_id']] += 1  # Increment count for rental place\n",
    "    \n",
    "#     return matching_products\n",
    "\n",
    "# # Retrieve detailed rental place information based on rental_place_id\n",
    "\n",
    "# def get_rental_place_info(rental_place_id):\n",
    "    \n",
    "#     rental_place_info = rentaldf[rentaldf['rental_place_id'] == str(rental_place_id)][['rental_place_name', 'address', 'email','phone','website']]\n",
    "    \n",
    "#     return rental_place_info\n",
    "\n",
    "\n",
    "# # Function to process user input and find matching products\n",
    "# def process_user_input(user_input_list):\n",
    "    \n",
    "#     total_matching_products = defaultdict(int)  # Count total matches per place\n",
    "    \n",
    "#     for user_input in user_input_list:\n",
    "#         tokens = user_input.lower().split(' ')\n",
    "        \n",
    "#         # Iterate through each product DataFrame\n",
    "#         for df in products_dataframes:\n",
    "#             matching_products = find_matching_products(tokens, df)\n",
    "            \n",
    "#             # Aggregate counts of matching products for each place\n",
    "#             for rental_place_id, count in matching_products.items():\n",
    "#                 total_matching_products[rental_place_id] += count\n",
    "    \n",
    "#     if total_matching_products:\n",
    "#         # Find the rental place with the most matching products\n",
    "#         max_place_id = max(total_matching_products, key=total_matching_products.get)\n",
    "#         rental_place_info = get_rental_place_info(max_place_id)\n",
    "#         return rental_place_info\n"
   ]
  },
  {
   "cell_type": "code",
   "execution_count": null,
   "metadata": {},
   "outputs": [],
   "source": []
  }
 ],
 "metadata": {
  "kernelspec": {
   "display_name": "finalProject",
   "language": "python",
   "name": "python3"
  },
  "language_info": {
   "codemirror_mode": {
    "name": "ipython",
    "version": 3
   },
   "file_extension": ".py",
   "mimetype": "text/x-python",
   "name": "python",
   "nbconvert_exporter": "python",
   "pygments_lexer": "ipython3",
   "version": "3.11.5"
  }
 },
 "nbformat": 4,
 "nbformat_minor": 2
}
