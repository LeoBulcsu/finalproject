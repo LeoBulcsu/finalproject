{
 "cells": [
  {
   "cell_type": "markdown",
   "metadata": {},
   "source": [
    "# AHAB app Functions"
   ]
  },
  {
   "cell_type": "markdown",
   "metadata": {},
   "source": [
    "In this notebook I will be testing the different functions needed to build up the app"
   ]
  },
  {
   "cell_type": "code",
   "execution_count": 253,
   "metadata": {},
   "outputs": [],
   "source": [
    "import pandas as pd\n",
    "import numpy as np\n",
    "from fuzzywuzzy import fuzz, process\n",
    "import json\n",
    "from collections import Counter"
   ]
  },
  {
   "cell_type": "code",
   "execution_count": 254,
   "metadata": {},
   "outputs": [],
   "source": [
    "with open('../data/CLEAN/audio_df.json', 'r') as audio:\n",
    "    audio_products = json.load(audio)\n",
    "\n",
    "with open('../data/CLEAN/camera_df.json', 'r') as cameras:\n",
    "    camera_products = json.load(cameras)\n",
    "\n",
    "with open('../data/CLEAN/lens_df.json', 'r') as lenses:\n",
    "    lens_products = json.load(lenses)\n",
    "\n",
    "with open('../data/CLEAN/lights_df.json', 'r') as lights:\n",
    "    light_products = json.load(lights)\n",
    "\n",
    "with open('../data/CLEAN/rental_places.json', 'r') as places:\n",
    "    rental_places = json.load(places)"
   ]
  },
  {
   "cell_type": "code",
   "execution_count": 255,
   "metadata": {},
   "outputs": [],
   "source": [
    "audiodf = pd.DataFrame(audio_products)\n",
    "camerasdf = pd.DataFrame(camera_products)\n",
    "lensesdf = pd.DataFrame(lens_products)\n",
    "lightsdf = pd.DataFrame(light_products)\n",
    "rentaldf = pd.DataFrame(rental_places)"
   ]
  },
  {
   "cell_type": "code",
   "execution_count": 256,
   "metadata": {},
   "outputs": [],
   "source": [
    "user_input_list = input('Feed me your needs: ').lower().split(',')"
   ]
  },
  {
   "cell_type": "code",
   "execution_count": 257,
   "metadata": {},
   "outputs": [
    {
     "data": {
      "text/plain": [
       "['arri alexa 35',\n",
       " 'arri/zeiss masterprime 18mm t1.3',\n",
       " 'zoom h6',\n",
       " 'nanlite pavotube 15c']"
      ]
     },
     "execution_count": 257,
     "metadata": {},
     "output_type": "execute_result"
    }
   ],
   "source": [
    "user_input_list"
   ]
  },
  {
   "cell_type": "code",
   "execution_count": 223,
   "metadata": {},
   "outputs": [],
   "source": [
    "def find_products_in_dataframes(products):\n",
    "\n",
    "    product_dict = {}\n",
    "    \n",
    "    for category, df in zip(['Audio', 'Cameras', 'Lenses', 'Lights'], [audiodf, camerasdf, lensesdf, lightsdf]):\n",
    "        \n",
    "        found_products = []\n",
    "        \n",
    "        for product in products:\n",
    "            # Use fuzzy matching to find similar products\n",
    "            \n",
    "            found = df[df['name'].apply(lambda x: fuzz.partial_ratio(x, product)) > 95]['rental_place_id'].tolist()\n",
    "            \n",
    "            found_products.extend(found)\n",
    "        \n",
    "        product_dict[category] = found_products\n",
    "    \n",
    "    return product_dict\n"
   ]
  },
  {
   "cell_type": "code",
   "execution_count": 258,
   "metadata": {},
   "outputs": [
    {
     "data": {
      "text/plain": [
       "{'Audio': [1, 3], 'Cameras': [1, 2, 3], 'Lenses': [2], 'Lights': [1]}"
      ]
     },
     "execution_count": 258,
     "metadata": {},
     "output_type": "execute_result"
    }
   ],
   "source": [
    "find_products_in_dataframes(user_input_list)"
   ]
  },
  {
   "cell_type": "code",
   "execution_count": 259,
   "metadata": {},
   "outputs": [],
   "source": [
    "product_dict = {'Audio': [1, 3], 'Cameras': [1, 2, 3], 'Lenses': [2], 'Lights': [1]}"
   ]
  },
  {
   "cell_type": "code",
   "execution_count": 248,
   "metadata": {},
   "outputs": [],
   "source": [
    "# Function to find the most common rental place ID\n",
    "def find_most_common_place_id(found_products_dict):\n",
    "\n",
    "    all_ids = [item for sublist in found_products_dict.values() for item in sublist]\n",
    "    count_ids = Counter(all_ids)\n",
    "    most_common_id = count_ids.most_common(1)[0][0]\n",
    "    \n",
    "    return str(most_common_id)"
   ]
  },
  {
   "cell_type": "code",
   "execution_count": 260,
   "metadata": {},
   "outputs": [
    {
     "data": {
      "text/plain": [
       "'1'"
      ]
     },
     "execution_count": 260,
     "metadata": {},
     "output_type": "execute_result"
    }
   ],
   "source": [
    "find_most_common_place_id(product_dict)"
   ]
  },
  {
   "cell_type": "code",
   "execution_count": 250,
   "metadata": {},
   "outputs": [],
   "source": [
    "# Function to get rental place info based on the most common ID\n",
    "def get_rental_place_info(most_common_id):\n",
    "    \n",
    "    return rentaldf[rentaldf['rental_place_id'] == most_common_id]"
   ]
  },
  {
   "cell_type": "code",
   "execution_count": 261,
   "metadata": {},
   "outputs": [
    {
     "data": {
      "text/html": [
       "<div>\n",
       "<style scoped>\n",
       "    .dataframe tbody tr th:only-of-type {\n",
       "        vertical-align: middle;\n",
       "    }\n",
       "\n",
       "    .dataframe tbody tr th {\n",
       "        vertical-align: top;\n",
       "    }\n",
       "\n",
       "    .dataframe thead th {\n",
       "        text-align: right;\n",
       "    }\n",
       "</style>\n",
       "<table border=\"1\" class=\"dataframe\">\n",
       "  <thead>\n",
       "    <tr style=\"text-align: right;\">\n",
       "      <th></th>\n",
       "      <th>rental_place_id</th>\n",
       "      <th>rental_place_name</th>\n",
       "      <th>address</th>\n",
       "      <th>latitude</th>\n",
       "      <th>longitude</th>\n",
       "      <th>email</th>\n",
       "      <th>phone</th>\n",
       "      <th>website</th>\n",
       "    </tr>\n",
       "  </thead>\n",
       "  <tbody>\n",
       "    <tr>\n",
       "      <th>0</th>\n",
       "      <td>1</td>\n",
       "      <td>WELAB</td>\n",
       "      <td>C. de Albasanz, 59, 28037, Madrid</td>\n",
       "      <td>40.43856</td>\n",
       "      <td>-3.62394</td>\n",
       "      <td>info@welab.es</td>\n",
       "      <td>0034 911823355</td>\n",
       "      <td>https://www.welabplus.com</td>\n",
       "    </tr>\n",
       "  </tbody>\n",
       "</table>\n",
       "</div>"
      ],
      "text/plain": [
       "  rental_place_id rental_place_name                            address  \\\n",
       "0               1             WELAB  C. de Albasanz, 59, 28037, Madrid   \n",
       "\n",
       "   latitude  longitude          email           phone  \\\n",
       "0  40.43856   -3.62394  info@welab.es  0034 911823355   \n",
       "\n",
       "                     website  \n",
       "0  https://www.welabplus.com  "
      ]
     },
     "execution_count": 261,
     "metadata": {},
     "output_type": "execute_result"
    }
   ],
   "source": [
    "get_rental_place_info('1')"
   ]
  },
  {
   "cell_type": "code",
   "execution_count": 264,
   "metadata": {},
   "outputs": [],
   "source": [
    "class AHABFinder:\n",
    "    def __init__(self, audiodf, camerasdf, lensesdf, lightsdf, rental_places):\n",
    "        \n",
    "        self.audiodf = audiodf\n",
    "        self.camerasdf = camerasdf\n",
    "        self.lensesdf = lensesdf\n",
    "        self.lightsdf = lightsdf\n",
    "        self.rental_places = rental_places\n",
    "\n",
    "    def find_products_in_dataframes(self, products):\n",
    "        \n",
    "        product_dict = {}\n",
    "        \n",
    "        for category, df in zip(['Audio', 'Cameras', 'Lenses', 'Lights'], [self.audiodf, self.camerasdf, self.lensesdf, self.lightsdf]):\n",
    "            found_products = []\n",
    "            for product in products:\n",
    "                found = df[df['name'].apply(lambda x: fuzz.partial_ratio(x, product)) > 95]['rental_place_id'].tolist()\n",
    "                found_products.extend(found)\n",
    "            \n",
    "            product_dict[category] = found_products\n",
    "        \n",
    "        return product_dict\n",
    "\n",
    "    def find_most_common_place_id(self, found_products_dict):\n",
    "        \n",
    "        all_ids = [item for sublist in found_products_dict.values() for item in sublist]\n",
    "        count_ids = Counter(all_ids)\n",
    "        most_common_id = count_ids.most_common(1)[0][0]\n",
    "        \n",
    "        return str(most_common_id)\n",
    "\n",
    "    def get_rental_place_info(self, rental_place_id):\n",
    "        \n",
    "        return self.rental_places[self.rental_places['rental_place_id'] == rental_place_id]\n",
    "\n",
    "    def find_rental_place_for_products(self):\n",
    "        \n",
    "        user_input = input(\"Enter a list of products separated by commas: \")\n",
    "        input_products = [prod.strip() for prod in user_input.split(',')]\n",
    "        \n",
    "        found_products_dict = self.find_products_in_dataframes(input_products)\n",
    "        most_common_id = self.find_most_common_place_id(found_products_dict)\n",
    "        rental_place_info = self.get_rental_place_info(most_common_id)\n",
    "        \n",
    "        return rental_place_info"
   ]
  },
  {
   "cell_type": "code",
   "execution_count": 265,
   "metadata": {},
   "outputs": [
    {
     "ename": "TypeError",
     "evalue": "list indices must be integers or slices, not str",
     "output_type": "error",
     "traceback": [
      "\u001b[0;31m---------------------------------------------------------------------------\u001b[0m",
      "\u001b[0;31mTypeError\u001b[0m                                 Traceback (most recent call last)",
      "\u001b[1;32m/Users/mac/Documents/IRONHACK/finalproject/notebooks/AHAB_def.ipynb Cell 16\u001b[0m line \u001b[0;36m3\n\u001b[1;32m      <a href='vscode-notebook-cell:/Users/mac/Documents/IRONHACK/finalproject/notebooks/AHAB_def.ipynb#Y111sZmlsZQ%3D%3D?line=0'>1</a>\u001b[0m finder \u001b[39m=\u001b[39m AHABFinder(audiodf, camerasdf, lensesdf, lightsdf, rental_places)\n\u001b[0;32m----> <a href='vscode-notebook-cell:/Users/mac/Documents/IRONHACK/finalproject/notebooks/AHAB_def.ipynb#Y111sZmlsZQ%3D%3D?line=2'>3</a>\u001b[0m result \u001b[39m=\u001b[39m finder\u001b[39m.\u001b[39mfind_rental_place_for_products()\n\u001b[1;32m      <a href='vscode-notebook-cell:/Users/mac/Documents/IRONHACK/finalproject/notebooks/AHAB_def.ipynb#Y111sZmlsZQ%3D%3D?line=4'>5</a>\u001b[0m \u001b[39mprint\u001b[39m(result)\n",
      "\u001b[1;32m/Users/mac/Documents/IRONHACK/finalproject/notebooks/AHAB_def.ipynb Cell 16\u001b[0m line \u001b[0;36m4\n\u001b[1;32m     <a href='vscode-notebook-cell:/Users/mac/Documents/IRONHACK/finalproject/notebooks/AHAB_def.ipynb#Y111sZmlsZQ%3D%3D?line=40'>41</a>\u001b[0m found_products_dict \u001b[39m=\u001b[39m \u001b[39mself\u001b[39m\u001b[39m.\u001b[39mfind_products_in_dataframes(input_products)\n\u001b[1;32m     <a href='vscode-notebook-cell:/Users/mac/Documents/IRONHACK/finalproject/notebooks/AHAB_def.ipynb#Y111sZmlsZQ%3D%3D?line=41'>42</a>\u001b[0m most_common_id \u001b[39m=\u001b[39m \u001b[39mself\u001b[39m\u001b[39m.\u001b[39mfind_most_common_place_id(found_products_dict)\n\u001b[0;32m---> <a href='vscode-notebook-cell:/Users/mac/Documents/IRONHACK/finalproject/notebooks/AHAB_def.ipynb#Y111sZmlsZQ%3D%3D?line=42'>43</a>\u001b[0m rental_place_info \u001b[39m=\u001b[39m \u001b[39mself\u001b[39m\u001b[39m.\u001b[39mget_rental_place_info(most_common_id)\n\u001b[1;32m     <a href='vscode-notebook-cell:/Users/mac/Documents/IRONHACK/finalproject/notebooks/AHAB_def.ipynb#Y111sZmlsZQ%3D%3D?line=44'>45</a>\u001b[0m \u001b[39mreturn\u001b[39;00m rental_place_info\n",
      "\u001b[1;32m/Users/mac/Documents/IRONHACK/finalproject/notebooks/AHAB_def.ipynb Cell 16\u001b[0m line \u001b[0;36m3\n\u001b[1;32m     <a href='vscode-notebook-cell:/Users/mac/Documents/IRONHACK/finalproject/notebooks/AHAB_def.ipynb#Y111sZmlsZQ%3D%3D?line=31'>32</a>\u001b[0m \u001b[39mdef\u001b[39;00m \u001b[39mget_rental_place_info\u001b[39m(\u001b[39mself\u001b[39m, rental_place_id):\n\u001b[0;32m---> <a href='vscode-notebook-cell:/Users/mac/Documents/IRONHACK/finalproject/notebooks/AHAB_def.ipynb#Y111sZmlsZQ%3D%3D?line=33'>34</a>\u001b[0m     \u001b[39mreturn\u001b[39;00m \u001b[39mself\u001b[39m\u001b[39m.\u001b[39mrental_places[\u001b[39mself\u001b[39m\u001b[39m.\u001b[39mrental_places[\u001b[39m'\u001b[39m\u001b[39mrental_place_id\u001b[39m\u001b[39m'\u001b[39m] \u001b[39m==\u001b[39m rental_place_id]\n",
      "\u001b[0;31mTypeError\u001b[0m: list indices must be integers or slices, not str"
     ]
    }
   ],
   "source": [
    "finder = AHABFinder(audiodf, camerasdf, lensesdf, lightsdf, rental_places)\n",
    "\n",
    "result = finder.find_rental_place_for_products()\n",
    "\n",
    "result"
   ]
  },
  {
   "cell_type": "code",
   "execution_count": null,
   "metadata": {},
   "outputs": [],
   "source": []
  }
 ],
 "metadata": {
  "kernelspec": {
   "display_name": "finalProject",
   "language": "python",
   "name": "python3"
  },
  "language_info": {
   "codemirror_mode": {
    "name": "ipython",
    "version": 3
   },
   "file_extension": ".py",
   "mimetype": "text/x-python",
   "name": "python",
   "nbconvert_exporter": "python",
   "pygments_lexer": "ipython3",
   "version": "3.11.5"
  }
 },
 "nbformat": 4,
 "nbformat_minor": 2
}
