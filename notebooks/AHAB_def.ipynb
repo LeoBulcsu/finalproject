{
 "cells": [
  {
   "cell_type": "markdown",
   "metadata": {},
   "source": [
    "# AHAB app Functions"
   ]
  },
  {
   "cell_type": "markdown",
   "metadata": {},
   "source": [
    "In this notebook I will be testing the different functions needed to build up the app"
   ]
  },
  {
   "cell_type": "code",
   "execution_count": 253,
   "metadata": {},
   "outputs": [],
   "source": [
    "import pandas as pd\n",
    "import numpy as np\n",
    "from fuzzywuzzy import fuzz, process\n",
    "import json\n",
    "from collections import Counter"
   ]
  },
  {
   "cell_type": "code",
   "execution_count": 254,
   "metadata": {},
   "outputs": [],
   "source": [
    "with open('../data/CLEAN/audio_df.json', 'r') as audio:\n",
    "    audio_products = json.load(audio)\n",
    "\n",
    "with open('../data/CLEAN/camera_df.json', 'r') as cameras:\n",
    "    camera_products = json.load(cameras)\n",
    "\n",
    "with open('../data/CLEAN/lens_df.json', 'r') as lenses:\n",
    "    lens_products = json.load(lenses)\n",
    "\n",
    "with open('../data/CLEAN/lights_df.json', 'r') as lights:\n",
    "    light_products = json.load(lights)\n",
    "\n",
    "with open('../data/CLEAN/rental_places.json', 'r') as places:\n",
    "    rental_places = json.load(places)"
   ]
  },
  {
   "cell_type": "code",
   "execution_count": 255,
   "metadata": {},
   "outputs": [],
   "source": [
    "audiodf = pd.DataFrame(audio_products)\n",
    "camerasdf = pd.DataFrame(camera_products)\n",
    "lensesdf = pd.DataFrame(lens_products)\n",
    "lightsdf = pd.DataFrame(light_products)\n",
    "rentaldf = pd.DataFrame(rental_places)"
   ]
  },
  {
   "cell_type": "code",
   "execution_count": 256,
   "metadata": {},
   "outputs": [],
   "source": [
    "user_input_list = input('Feed me your needs: ').lower().split(',')"
   ]
  },
  {
   "cell_type": "code",
   "execution_count": 257,
   "metadata": {},
   "outputs": [
    {
     "data": {
      "text/plain": [
       "['arri alexa 35',\n",
       " 'arri/zeiss masterprime 18mm t1.3',\n",
       " 'zoom h6',\n",
       " 'nanlite pavotube 15c']"
      ]
     },
     "execution_count": 257,
     "metadata": {},
     "output_type": "execute_result"
    }
   ],
   "source": [
    "user_input_list"
   ]
  },
  {
   "cell_type": "code",
   "execution_count": 223,
   "metadata": {},
   "outputs": [],
   "source": [
    "def find_products_in_dataframes(products):\n",
    "\n",
    "    product_dict = {}\n",
    "    \n",
    "    for category, df in zip(['Audio', 'Cameras', 'Lenses', 'Lights'], [audiodf, camerasdf, lensesdf, lightsdf]):\n",
    "        \n",
    "        found_products = []\n",
    "        \n",
    "        for product in products:\n",
    "            # Use fuzzy matching to find similar products\n",
    "            \n",
    "            found = df[df['name'].apply(lambda x: fuzz.partial_ratio(x, product)) > 95]['rental_place_id'].tolist()\n",
    "            \n",
    "            found_products.extend(found)\n",
    "        \n",
    "        product_dict[category] = found_products\n",
    "    \n",
    "    return product_dict\n"
   ]
  },
  {
   "cell_type": "code",
   "execution_count": 258,
   "metadata": {},
   "outputs": [
    {
     "data": {
      "text/plain": [
       "{'Audio': [1, 3], 'Cameras': [1, 2, 3], 'Lenses': [2], 'Lights': [1]}"
      ]
     },
     "execution_count": 258,
     "metadata": {},
     "output_type": "execute_result"
    }
   ],
   "source": [
    "find_products_in_dataframes(user_input_list)"
   ]
  },
  {
   "cell_type": "code",
   "execution_count": 259,
   "metadata": {},
   "outputs": [],
   "source": [
    "product_dict = {'Audio': [1, 3], 'Cameras': [1, 2, 3], 'Lenses': [2], 'Lights': [1]}"
   ]
  },
  {
   "cell_type": "code",
   "execution_count": 248,
   "metadata": {},
   "outputs": [],
   "source": [
    "# Function to find the most common rental place ID\n",
    "def find_most_common_place_id(found_products_dict):\n",
    "\n",
    "    all_ids = [item for sublist in found_products_dict.values() for item in sublist]\n",
    "    count_ids = Counter(all_ids)\n",
    "    most_common_id = count_ids.most_common(1)[0][0]\n",
    "    \n",
    "    return str(most_common_id)"
   ]
  },
  {
   "cell_type": "code",
   "execution_count": 260,
   "metadata": {},
   "outputs": [
    {
     "data": {
      "text/plain": [
       "'1'"
      ]
     },
     "execution_count": 260,
     "metadata": {},
     "output_type": "execute_result"
    }
   ],
   "source": [
    "find_most_common_place_id(product_dict)"
   ]
  },
  {
   "cell_type": "code",
   "execution_count": 250,
   "metadata": {},
   "outputs": [],
   "source": [
    "# Function to get rental place info based on the most common ID\n",
    "def get_rental_place_info(most_common_id):\n",
    "    \n",
    "    return rentaldf[rentaldf['rental_place_id'] == most_common_id]"
   ]
  },
  {
   "cell_type": "code",
   "execution_count": 261,
   "metadata": {},
   "outputs": [
    {
     "data": {
      "text/html": [
       "<div>\n",
       "<style scoped>\n",
       "    .dataframe tbody tr th:only-of-type {\n",
       "        vertical-align: middle;\n",
       "    }\n",
       "\n",
       "    .dataframe tbody tr th {\n",
       "        vertical-align: top;\n",
       "    }\n",
       "\n",
       "    .dataframe thead th {\n",
       "        text-align: right;\n",
       "    }\n",
       "</style>\n",
       "<table border=\"1\" class=\"dataframe\">\n",
       "  <thead>\n",
       "    <tr style=\"text-align: right;\">\n",
       "      <th></th>\n",
       "      <th>rental_place_id</th>\n",
       "      <th>rental_place_name</th>\n",
       "      <th>address</th>\n",
       "      <th>latitude</th>\n",
       "      <th>longitude</th>\n",
       "      <th>email</th>\n",
       "      <th>phone</th>\n",
       "      <th>website</th>\n",
       "    </tr>\n",
       "  </thead>\n",
       "  <tbody>\n",
       "    <tr>\n",
       "      <th>0</th>\n",
       "      <td>1</td>\n",
       "      <td>WELAB</td>\n",
       "      <td>C. de Albasanz, 59, 28037, Madrid</td>\n",
       "      <td>40.43856</td>\n",
       "      <td>-3.62394</td>\n",
       "      <td>info@welab.es</td>\n",
       "      <td>0034 911823355</td>\n",
       "      <td>https://www.welabplus.com</td>\n",
       "    </tr>\n",
       "  </tbody>\n",
       "</table>\n",
       "</div>"
      ],
      "text/plain": [
       "  rental_place_id rental_place_name                            address  \\\n",
       "0               1             WELAB  C. de Albasanz, 59, 28037, Madrid   \n",
       "\n",
       "   latitude  longitude          email           phone  \\\n",
       "0  40.43856   -3.62394  info@welab.es  0034 911823355   \n",
       "\n",
       "                     website  \n",
       "0  https://www.welabplus.com  "
      ]
     },
     "execution_count": 261,
     "metadata": {},
     "output_type": "execute_result"
    }
   ],
   "source": [
    "get_rental_place_info('1')"
   ]
  },
  {
   "cell_type": "code",
   "execution_count": null,
   "metadata": {},
   "outputs": [],
   "source": []
  }
 ],
 "metadata": {
  "kernelspec": {
   "display_name": "finalProject",
   "language": "python",
   "name": "python3"
  },
  "language_info": {
   "codemirror_mode": {
    "name": "ipython",
    "version": 3
   },
   "file_extension": ".py",
   "mimetype": "text/x-python",
   "name": "python",
   "nbconvert_exporter": "python",
   "pygments_lexer": "ipython3",
   "version": "3.11.5"
  }
 },
 "nbformat": 4,
 "nbformat_minor": 2
}
