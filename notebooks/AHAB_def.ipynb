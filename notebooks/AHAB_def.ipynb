{
 "cells": [
  {
   "cell_type": "markdown",
   "metadata": {},
   "source": [
    "# AHAB app Functions"
   ]
  },
  {
   "cell_type": "markdown",
   "metadata": {},
   "source": [
    "In this notebook I will be testing the different functions needed to build up the app"
   ]
  },
  {
   "cell_type": "code",
   "execution_count": 2,
   "metadata": {},
   "outputs": [],
   "source": [
    "import pandas as pd\n",
    "import numpy as np\n",
    "from fuzzywuzzy import fuzz, process\n",
    "import json\n",
    "from collections import Counter\n",
    "import folium"
   ]
  },
  {
   "cell_type": "code",
   "execution_count": 2,
   "metadata": {},
   "outputs": [],
   "source": [
    "with open('../data/CLEAN/audio_df.json', 'r') as audio:\n",
    "    audio_products = json.load(audio)\n",
    "\n",
    "with open('../data/CLEAN/camera_df.json', 'r') as cameras:\n",
    "    camera_products = json.load(cameras)\n",
    "\n",
    "with open('../data/CLEAN/lens_df.json', 'r') as lenses:\n",
    "    lens_products = json.load(lenses)\n",
    "\n",
    "with open('../data/CLEAN/lights_df.json', 'r') as lights:\n",
    "    light_products = json.load(lights)\n",
    "\n",
    "with open('../data/CLEAN/rental_places.json', 'r') as places:\n",
    "    rental_places = json.load(places)"
   ]
  },
  {
   "cell_type": "code",
   "execution_count": 3,
   "metadata": {},
   "outputs": [],
   "source": [
    "audiodf = pd.DataFrame(audio_products)\n",
    "camerasdf = pd.DataFrame(camera_products)\n",
    "lensesdf = pd.DataFrame(lens_products)\n",
    "lightsdf = pd.DataFrame(light_products)\n",
    "rentaldf = pd.DataFrame(rental_places)"
   ]
  },
  {
   "cell_type": "code",
   "execution_count": 4,
   "metadata": {},
   "outputs": [
    {
     "data": {
      "text/html": [
       "<div>\n",
       "<style scoped>\n",
       "    .dataframe tbody tr th:only-of-type {\n",
       "        vertical-align: middle;\n",
       "    }\n",
       "\n",
       "    .dataframe tbody tr th {\n",
       "        vertical-align: top;\n",
       "    }\n",
       "\n",
       "    .dataframe thead th {\n",
       "        text-align: right;\n",
       "    }\n",
       "</style>\n",
       "<table border=\"1\" class=\"dataframe\">\n",
       "  <thead>\n",
       "    <tr style=\"text-align: right;\">\n",
       "      <th></th>\n",
       "      <th>rental_place_id</th>\n",
       "      <th>rental_place_name</th>\n",
       "      <th>address</th>\n",
       "      <th>latitude</th>\n",
       "      <th>longitude</th>\n",
       "      <th>email</th>\n",
       "      <th>phone</th>\n",
       "      <th>website</th>\n",
       "    </tr>\n",
       "  </thead>\n",
       "  <tbody>\n",
       "    <tr>\n",
       "      <th>0</th>\n",
       "      <td>1</td>\n",
       "      <td>WELAB</td>\n",
       "      <td>C. de Albasanz, 59, 28037, Madrid</td>\n",
       "      <td>40.43856</td>\n",
       "      <td>-3.62394</td>\n",
       "      <td>info@welab.es</td>\n",
       "      <td>0034 911823355</td>\n",
       "      <td>https://www.welabplus.com</td>\n",
       "    </tr>\n",
       "    <tr>\n",
       "      <th>1</th>\n",
       "      <td>2</td>\n",
       "      <td>RC SERVICE</td>\n",
       "      <td>Avda. Prado del Espino, 1, 28660, Boadilla del...</td>\n",
       "      <td>40.39606</td>\n",
       "      <td>-3.85031</td>\n",
       "      <td>info@rcservice.es</td>\n",
       "      <td>0034 911855868</td>\n",
       "      <td>https://www.rcservice.es</td>\n",
       "    </tr>\n",
       "    <tr>\n",
       "      <th>2</th>\n",
       "      <td>3</td>\n",
       "      <td>OVIDE</td>\n",
       "      <td>Av. Montes de Oca, 19, Nave 23, 28703, San Seb...</td>\n",
       "      <td>40.55172</td>\n",
       "      <td>-3.61149</td>\n",
       "      <td>madrid@ovide.com</td>\n",
       "      <td>0034 915670407</td>\n",
       "      <td>https://www.ovide.com/</td>\n",
       "    </tr>\n",
       "  </tbody>\n",
       "</table>\n",
       "</div>"
      ],
      "text/plain": [
       "  rental_place_id rental_place_name  \\\n",
       "0               1             WELAB   \n",
       "1               2        RC SERVICE   \n",
       "2               3             OVIDE   \n",
       "\n",
       "                                             address  latitude  longitude  \\\n",
       "0                  C. de Albasanz, 59, 28037, Madrid  40.43856   -3.62394   \n",
       "1  Avda. Prado del Espino, 1, 28660, Boadilla del...  40.39606   -3.85031   \n",
       "2  Av. Montes de Oca, 19, Nave 23, 28703, San Seb...  40.55172   -3.61149   \n",
       "\n",
       "               email           phone                    website  \n",
       "0      info@welab.es  0034 911823355  https://www.welabplus.com  \n",
       "1  info@rcservice.es  0034 911855868   https://www.rcservice.es  \n",
       "2   madrid@ovide.com  0034 915670407     https://www.ovide.com/  "
      ]
     },
     "execution_count": 4,
     "metadata": {},
     "output_type": "execute_result"
    }
   ],
   "source": [
    "rentaldf"
   ]
  },
  {
   "cell_type": "code",
   "execution_count": 5,
   "metadata": {},
   "outputs": [],
   "source": [
    "user_input_list = input('Feed me your needs: ').lower().split(',')"
   ]
  },
  {
   "cell_type": "code",
   "execution_count": 11,
   "metadata": {},
   "outputs": [
    {
     "data": {
      "text/plain": [
       "['arri alexa 35',\n",
       " ' arri/zeiss masterprime 18mm t1.3',\n",
       " ' zoom h6',\n",
       " ' nanlite pavotube 15c']"
      ]
     },
     "execution_count": 11,
     "metadata": {},
     "output_type": "execute_result"
    }
   ],
   "source": [
    "user_input_list"
   ]
  },
  {
   "cell_type": "code",
   "execution_count": 22,
   "metadata": {},
   "outputs": [],
   "source": [
    "def find_products_in_dataframes(products):\n",
    "    found_products_dict = {category: [] for category in ['Audio', 'Cameras', 'Lenses', 'Lights']}\n",
    "    \n",
    "    for category, df in zip(['Audio', 'Cameras', 'Lenses', 'Lights'], [audiodf, camerasdf, lensesdf, lightsdf]):\n",
    "        found_products = []\n",
    "        \n",
    "        for product in products:\n",
    "            # Filter by similarity and retrieve name and rental_place_id\n",
    "            found = df[df['name'].apply(lambda x: fuzz.partial_ratio(x, product)) > 95][['name', 'rental_place_id']]\n",
    "            found_products.extend(found.to_dict('records'))\n",
    "        \n",
    "        found_products_dict[category] = found_products\n",
    "    \n",
    "    return found_products_dict\n"
   ]
  },
  {
   "cell_type": "code",
   "execution_count": 23,
   "metadata": {},
   "outputs": [
    {
     "data": {
      "text/plain": [
       "['arri alexa 35',\n",
       " ' arri/zeiss masterprime 18mm t1.3',\n",
       " ' zoom h6',\n",
       " ' nanlite pavotube 15c']"
      ]
     },
     "execution_count": 23,
     "metadata": {},
     "output_type": "execute_result"
    }
   ],
   "source": [
    "user_input_list"
   ]
  },
  {
   "cell_type": "code",
   "execution_count": 24,
   "metadata": {},
   "outputs": [
    {
     "data": {
      "text/plain": [
       "{'Audio': [{'name': 'zoom h6', 'rental_place_id': 1},\n",
       "  {'name': 'mezclador/grabador zoom h6', 'rental_place_id': 3}],\n",
       " 'Cameras': [{'name': 'arri alexa 35', 'rental_place_id': 1},\n",
       "  {'name': 'arri alexa 35', 'rental_place_id': 2},\n",
       "  {'name': ' arri alexa 35 4k', 'rental_place_id': 3}],\n",
       " 'Lenses': [{'name': ' arri/zeiss masterprime 18mm t 1.3',\n",
       "   'rental_place_id': 2}],\n",
       " 'Lights': [{'name': 'nanlite pavotube 15c', 'rental_place_id': 1}]}"
      ]
     },
     "execution_count": 24,
     "metadata": {},
     "output_type": "execute_result"
    }
   ],
   "source": [
    "find_products_in_dataframes(user_input_list)"
   ]
  },
  {
   "cell_type": "code",
   "execution_count": 29,
   "metadata": {},
   "outputs": [],
   "source": [
    "product_dict = {'Audio': [{'name': 'zoom h6', 'rental_place_id': 1},\n",
    "                          {'name': 'mezclador/grabador zoom h6', 'rental_place_id': 3}],\n",
    "                'Cameras': [{'name': 'arri alexa 35', 'rental_place_id': 1},\n",
    "                            {'name': 'arri alexa 35', 'rental_place_id': 2},\n",
    "                            {'name': ' arri alexa 35 4k', 'rental_place_id': 3}],\n",
    "                'Lenses': [{'name': ' arri/zeiss masterprime 18mm t 1.3', 'rental_place_id': 2}],\n",
    "                'Lights': [{'name': 'nanlite pavotube 15c', 'rental_place_id': 1}]}"
   ]
  },
  {
   "cell_type": "code",
   "execution_count": 39,
   "metadata": {},
   "outputs": [],
   "source": [
    "# Function to find the most common rental place ID\n",
    "\n",
    "def find_most_common_place_id(found_products_dict):\n",
    "    all_ids = [item['rental_place_id'] for sublist in found_products_dict.values() for item in sublist]\n",
    "    count_ids = Counter(all_ids)\n",
    "    \n",
    "    most_common_id = None\n",
    "    if count_ids:  # Check if count_ids is not empty\n",
    "        most_common_id = count_ids.most_common(1)[0][0]\n",
    "    \n",
    "    return most_common_id"
   ]
  },
  {
   "cell_type": "code",
   "execution_count": 40,
   "metadata": {},
   "outputs": [
    {
     "data": {
      "text/plain": [
       "1"
      ]
     },
     "execution_count": 40,
     "metadata": {},
     "output_type": "execute_result"
    }
   ],
   "source": [
    "find_most_common_place_id(product_dict)"
   ]
  },
  {
   "cell_type": "code",
   "execution_count": 41,
   "metadata": {},
   "outputs": [],
   "source": [
    "# Function to get rental place info based on the most common ID\n",
    "def get_rental_place_info(most_common_id):\n",
    "    \n",
    "    return rentaldf[rentaldf['rental_place_id'] == most_common_id]"
   ]
  },
  {
   "cell_type": "code",
   "execution_count": 42,
   "metadata": {},
   "outputs": [
    {
     "data": {
      "text/html": [
       "<div>\n",
       "<style scoped>\n",
       "    .dataframe tbody tr th:only-of-type {\n",
       "        vertical-align: middle;\n",
       "    }\n",
       "\n",
       "    .dataframe tbody tr th {\n",
       "        vertical-align: top;\n",
       "    }\n",
       "\n",
       "    .dataframe thead th {\n",
       "        text-align: right;\n",
       "    }\n",
       "</style>\n",
       "<table border=\"1\" class=\"dataframe\">\n",
       "  <thead>\n",
       "    <tr style=\"text-align: right;\">\n",
       "      <th></th>\n",
       "      <th>rental_place_id</th>\n",
       "      <th>rental_place_name</th>\n",
       "      <th>address</th>\n",
       "      <th>latitude</th>\n",
       "      <th>longitude</th>\n",
       "      <th>email</th>\n",
       "      <th>phone</th>\n",
       "      <th>website</th>\n",
       "    </tr>\n",
       "  </thead>\n",
       "  <tbody>\n",
       "    <tr>\n",
       "      <th>0</th>\n",
       "      <td>1</td>\n",
       "      <td>WELAB</td>\n",
       "      <td>C. de Albasanz, 59, 28037, Madrid</td>\n",
       "      <td>40.43856</td>\n",
       "      <td>-3.62394</td>\n",
       "      <td>info@welab.es</td>\n",
       "      <td>0034 911823355</td>\n",
       "      <td>https://www.welabplus.com</td>\n",
       "    </tr>\n",
       "  </tbody>\n",
       "</table>\n",
       "</div>"
      ],
      "text/plain": [
       "  rental_place_id rental_place_name                            address  \\\n",
       "0               1             WELAB  C. de Albasanz, 59, 28037, Madrid   \n",
       "\n",
       "   latitude  longitude          email           phone  \\\n",
       "0  40.43856   -3.62394  info@welab.es  0034 911823355   \n",
       "\n",
       "                     website  \n",
       "0  https://www.welabplus.com  "
      ]
     },
     "execution_count": 42,
     "metadata": {},
     "output_type": "execute_result"
    }
   ],
   "source": [
    "get_rental_place_info('1')"
   ]
  },
  {
   "cell_type": "code",
   "execution_count": 71,
   "metadata": {},
   "outputs": [],
   "source": [
    "class AHABFinder:\n",
    "    def __init__(self, audiodf, camerasdf, lensesdf, lightsdf, rentaldf):\n",
    "        \n",
    "        self.audiodf = audiodf\n",
    "        self.camerasdf = camerasdf\n",
    "        self.lensesdf = lensesdf\n",
    "        self.lightsdf = lightsdf\n",
    "        self.rentaldf = rentaldf\n",
    "\n",
    "    def find_products_in_dataframes(self, products):\n",
    "        found_products_dict = {category: [] for category in ['Audio', 'Cameras', 'Lenses', 'Lights']}\n",
    "        \n",
    "        for category, df in zip(['Audio', 'Cameras', 'Lenses', 'Lights'], [self.audiodf, self.camerasdf, self.lensesdf, self.lightsdf]):\n",
    "            found_products = []\n",
    "            \n",
    "            for product in products:\n",
    "                # Filter by similarity and retrieve name and rental_place_id\n",
    "                found = df[df['name'].apply(lambda x: fuzz.partial_ratio(x, product)) > 95][['name', 'rental_place_id']]\n",
    "                found_products.extend(found.to_dict('records'))\n",
    "            \n",
    "            found_products_dict[category] = found_products\n",
    "        \n",
    "        return found_products_dict\n",
    "\n",
    "\n",
    "    # Function to find the most common rental place ID\n",
    "\n",
    "    def find_most_common_place_id(self, found_products_dict):\n",
    "        all_ids = [item['rental_place_id'] for sublist in found_products_dict.values() for item in sublist]\n",
    "        count_ids = Counter(all_ids)\n",
    "        \n",
    "        most_common_id = None\n",
    "        if count_ids:  # Check if count_ids is not empty\n",
    "            most_common_id = count_ids.most_common(1)[0][0]\n",
    "        \n",
    "        return most_common_id\n",
    "\n",
    "    # Function to retrieve the rental_place info\n",
    "\n",
    "    def get_rental_place_info(self, rental_place_id):\n",
    "        \n",
    "        return self.rentaldf[self.rentaldf['rental_place_id'] == str(rental_place_id)]#[['rental_place_name', 'address', 'email', 'phone', 'website']]\n",
    "\n",
    "\n",
    "    # Function to display the rental place on a map.\n",
    "    def display_map(self, df):\n",
    "    \n",
    "        map = folium.Map(location=[df['latitude'], df['longitude']], zoom_start=10.5)  # Initial map centered at a location\n",
    "\n",
    "        # Add markers for rental shop locations\n",
    "    \n",
    "        lat = df['latitude']\n",
    "        lon = df['longitude']\n",
    "        name = df['rental_place_name']\n",
    "        address = df['address']\n",
    "        phone = df['phone']\n",
    "        popup = folium.Popup(f\"Company: {name} <br> Address: {address} <br> Phone: {phone}\", min_width=300, max_width=300)\n",
    "        folium.Marker([lat, lon], popup = popup).add_to(map)\n",
    "\n",
    "        return map\n",
    "\n",
    "\n",
    "    # Function to retrieve the info we want to display\n",
    "\n",
    "    def find_rental_place_for_products(self):\n",
    "        \n",
    "        user_input = input(\"Enter a list of products separated by commas: \")\n",
    "        input_products = [prod.strip() for prod in user_input.lower().split(',')]\n",
    "        \n",
    "        found_products_dict = self.find_products_in_dataframes(input_products)\n",
    "        most_common_id = self.find_most_common_place_id(found_products_dict)\n",
    "        rental_place_info = self.get_rental_place_info(most_common_id)\n",
    "        rental_mp = self.display_map(rental_place_info)\n",
    "        \n",
    "        return  found_products_dict, most_common_id, rental_place_info, rental_mp"
   ]
  },
  {
   "cell_type": "code",
   "execution_count": 70,
   "metadata": {},
   "outputs": [
    {
     "name": "stderr",
     "output_type": "stream",
     "text": [
      "/usr/local/Caskroom/miniconda/base/envs/finalProject/lib/python3.11/site-packages/folium/utilities.py:69: FutureWarning: Calling float on a single element Series is deprecated and will raise a TypeError in the future. Use float(ser.iloc[0]) instead\n",
      "  float(coord)\n",
      "/usr/local/Caskroom/miniconda/base/envs/finalProject/lib/python3.11/site-packages/folium/utilities.py:77: FutureWarning: Calling float on a single element Series is deprecated and will raise a TypeError in the future. Use float(ser.iloc[0]) instead\n",
      "  if math.isnan(float(coord)):\n",
      "/usr/local/Caskroom/miniconda/base/envs/finalProject/lib/python3.11/site-packages/folium/utilities.py:79: FutureWarning: Calling float on a single element Series is deprecated and will raise a TypeError in the future. Use float(ser.iloc[0]) instead\n",
      "  return [float(x) for x in coords]\n"
     ]
    },
    {
     "data": {
      "text/html": [
       "<div>\n",
       "<style scoped>\n",
       "    .dataframe tbody tr th:only-of-type {\n",
       "        vertical-align: middle;\n",
       "    }\n",
       "\n",
       "    .dataframe tbody tr th {\n",
       "        vertical-align: top;\n",
       "    }\n",
       "\n",
       "    .dataframe thead th {\n",
       "        text-align: right;\n",
       "    }\n",
       "</style>\n",
       "<table border=\"1\" class=\"dataframe\">\n",
       "  <thead>\n",
       "    <tr style=\"text-align: right;\">\n",
       "      <th></th>\n",
       "      <th>latitude</th>\n",
       "      <th>longitude</th>\n",
       "    </tr>\n",
       "  </thead>\n",
       "  <tbody>\n",
       "    <tr>\n",
       "      <th>0</th>\n",
       "      <td>40.43856</td>\n",
       "      <td>-3.62394</td>\n",
       "    </tr>\n",
       "  </tbody>\n",
       "</table>\n",
       "</div>"
      ],
      "text/plain": [
       "   latitude  longitude\n",
       "0  40.43856   -3.62394"
      ]
     },
     "execution_count": 70,
     "metadata": {},
     "output_type": "execute_result"
    }
   ],
   "source": [
    "finder = AHABFinder(audiodf, camerasdf, lensesdf, lightsdf, rentaldf)\n",
    "\n",
    "result = finder.find_rental_place_for_products()\n",
    "\n",
    "result"
   ]
  },
  {
   "cell_type": "code",
   "execution_count": null,
   "metadata": {},
   "outputs": [],
   "source": [
    "prod = 'Arri alexa 35, Arri/zeiss masterprime 18mm t1.3, Zoom h6, Nanlite pavotube 15c'"
   ]
  },
  {
   "cell_type": "code",
   "execution_count": 51,
   "metadata": {},
   "outputs": [
    {
     "data": {
      "text/html": [
       "<div>\n",
       "<style scoped>\n",
       "    .dataframe tbody tr th:only-of-type {\n",
       "        vertical-align: middle;\n",
       "    }\n",
       "\n",
       "    .dataframe tbody tr th {\n",
       "        vertical-align: top;\n",
       "    }\n",
       "\n",
       "    .dataframe thead th {\n",
       "        text-align: right;\n",
       "    }\n",
       "</style>\n",
       "<table border=\"1\" class=\"dataframe\">\n",
       "  <thead>\n",
       "    <tr style=\"text-align: right;\">\n",
       "      <th></th>\n",
       "      <th>rental_place_id</th>\n",
       "      <th>rental_place_name</th>\n",
       "      <th>address</th>\n",
       "      <th>latitude</th>\n",
       "      <th>longitude</th>\n",
       "      <th>email</th>\n",
       "      <th>phone</th>\n",
       "      <th>website</th>\n",
       "    </tr>\n",
       "  </thead>\n",
       "  <tbody>\n",
       "    <tr>\n",
       "      <th>1</th>\n",
       "      <td>2</td>\n",
       "      <td>RC SERVICE</td>\n",
       "      <td>Avda. Prado del Espino, 1, 28660, Boadilla del...</td>\n",
       "      <td>40.39606</td>\n",
       "      <td>-3.85031</td>\n",
       "      <td>info@rcservice.es</td>\n",
       "      <td>0034 911855868</td>\n",
       "      <td>https://www.rcservice.es</td>\n",
       "    </tr>\n",
       "  </tbody>\n",
       "</table>\n",
       "</div>"
      ],
      "text/plain": [
       "  rental_place_id rental_place_name  \\\n",
       "1               2        RC SERVICE   \n",
       "\n",
       "                                             address  latitude  longitude  \\\n",
       "1  Avda. Prado del Espino, 1, 28660, Boadilla del...  40.39606   -3.85031   \n",
       "\n",
       "               email           phone                   website  \n",
       "1  info@rcservice.es  0034 911855868  https://www.rcservice.es  "
      ]
     },
     "execution_count": 51,
     "metadata": {},
     "output_type": "execute_result"
    }
   ],
   "source": [
    "\n",
    "rentaldf.loc[[1]]"
   ]
  },
  {
   "cell_type": "code",
   "execution_count": 54,
   "metadata": {},
   "outputs": [],
   "source": [
    "def display_map(self, df):\n",
    "    \n",
    "    map = folium.Map(location=[df['latitude'], df['longitude']], zoom_start=10.5)  # Initial map centered at a location\n",
    "\n",
    "    # Add markers for rental shop locations\n",
    "  \n",
    "    lat = df['latitude']\n",
    "    lon = df['longitude']\n",
    "    name = df['rental_place_name']\n",
    "    address = df['address']\n",
    "    phone = df['phone']\n",
    "    popup = folium.Popup(f\"Company: {name} <br> Address: {address} <br> Phone: {phone}\", min_width=300, max_width=300)\n",
    "    folium.Marker([lat, lon], popup = popup).add_to(map)\n",
    "\n",
    "    return map"
   ]
  },
  {
   "cell_type": "code",
   "execution_count": 1,
   "metadata": {},
   "outputs": [],
   "source": [
    "#display_map(rentaldf.loc[[1]])"
   ]
  },
  {
   "cell_type": "code",
   "execution_count": 3,
   "metadata": {},
   "outputs": [],
   "source": [
    "import pymongo"
   ]
  },
  {
   "cell_type": "code",
   "execution_count": 4,
   "metadata": {},
   "outputs": [],
   "source": [
    "client = pymongo.MongoClient(\"mongodb://localhost:27017\")           \n",
    "db = client['AHAB_database']                                        \n",
    "collection_names = db.list_collection_names()\n",
    "\n",
    "# Function to fetch data from MongoDB\n",
    "def fetch_data(collection_name):\n",
    "    collection = db[collection_name]\n",
    "    data = list(collection.find({}))                                # Fetch all documents\n",
    "    return pd.DataFrame(data)                                       # Convert to DataFrame\n",
    "\n",
    "# Load data from MongoDB into DataFrames\n",
    "\n",
    "audiodf = fetch_data('audio_collection')  \n",
    "camerasdf = fetch_data('cameras_collection')  \n",
    "lensesdf = fetch_data('lenses_collection') \n",
    "lightsdf = fetch_data('lighting_collection')  \n",
    "rentaldf = fetch_data('rental_places')  \n"
   ]
  },
  {
   "cell_type": "code",
   "execution_count": 9,
   "metadata": {},
   "outputs": [
    {
     "name": "stdout",
     "output_type": "stream",
     "text": [
      "<class 'pandas.core.frame.DataFrame'>\n",
      "RangeIndex: 3 entries, 0 to 2\n",
      "Data columns (total 9 columns):\n",
      " #   Column             Non-Null Count  Dtype  \n",
      "---  ------             --------------  -----  \n",
      " 0   _id                3 non-null      object \n",
      " 1   rental_place_id    3 non-null      int64  \n",
      " 2   rental_place_name  3 non-null      object \n",
      " 3   address            3 non-null      object \n",
      " 4   latitude           3 non-null      float64\n",
      " 5   longitude          3 non-null      float64\n",
      " 6   email              3 non-null      object \n",
      " 7   phone              3 non-null      object \n",
      " 8   website            3 non-null      object \n",
      "dtypes: float64(2), int64(1), object(6)\n",
      "memory usage: 348.0+ bytes\n"
     ]
    }
   ],
   "source": [
    "rentaldf.info()"
   ]
  },
  {
   "cell_type": "code",
   "execution_count": null,
   "metadata": {},
   "outputs": [],
   "source": []
  }
 ],
 "metadata": {
  "kernelspec": {
   "display_name": "finalProject",
   "language": "python",
   "name": "python3"
  },
  "language_info": {
   "codemirror_mode": {
    "name": "ipython",
    "version": 3
   },
   "file_extension": ".py",
   "mimetype": "text/x-python",
   "name": "python",
   "nbconvert_exporter": "python",
   "pygments_lexer": "ipython3",
   "version": "3.11.5"
  }
 },
 "nbformat": 4,
 "nbformat_minor": 2
}
