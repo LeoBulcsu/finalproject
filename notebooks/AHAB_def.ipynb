{
 "cells": [
  {
   "cell_type": "markdown",
   "metadata": {},
   "source": [
    "# AHAB app Functions"
   ]
  },
  {
   "cell_type": "markdown",
   "metadata": {},
   "source": [
    "In this notebook I will be testing the different functions needed to build up the app"
   ]
  },
  {
   "cell_type": "code",
   "execution_count": 2,
   "metadata": {},
   "outputs": [],
   "source": [
    "import pandas as pd\n",
    "import numpy as np\n",
    "from fuzzywuzzy import fuzz, process\n",
    "import json"
   ]
  },
  {
   "cell_type": "code",
   "execution_count": 16,
   "metadata": {},
   "outputs": [],
   "source": [
    "with open('../data/CLEAN/audio_df.json', 'r') as audio:\n",
    "    audio_products = json.load(audio)\n",
    "\n",
    "with open('../data/CLEAN/camera_df.json', 'r') as cameras:\n",
    "    camera_products = json.load(cameras)\n",
    "\n",
    "with open('../data/CLEAN/lens_df.json', 'r') as lenses:\n",
    "    lens_products = json.load(lenses)\n",
    "\n",
    "with open('../data/CLEAN/lights_df.json', 'r') as lights:\n",
    "    light_products = json.load(lights)\n",
    "\n",
    "with open('../data/CLEAN/rental_places.json', 'r') as places:\n",
    "    rental_places = json.load(places)"
   ]
  },
  {
   "cell_type": "code",
   "execution_count": 17,
   "metadata": {},
   "outputs": [],
   "source": [
    "audiodf = pd.DataFrame(audio_products)\n",
    "camerasdf = pd.DataFrame(camera_products)\n",
    "lensesdf = pd.DataFrame(lens_products)\n",
    "lightsdf = pd.DataFrame(light_products)\n",
    "rentaldf = pd.DataFrame(rental_places)"
   ]
  },
  {
   "cell_type": "code",
   "execution_count": 93,
   "metadata": {},
   "outputs": [],
   "source": [
    "products_dataframes = [audiodf, camerasdf, lensesdf, lightsdf]"
   ]
  },
  {
   "cell_type": "code",
   "execution_count": 143,
   "metadata": {},
   "outputs": [],
   "source": [
    "user_input_list = input('Feed me your needs: ').split(',')"
   ]
  },
  {
   "cell_type": "code",
   "execution_count": 144,
   "metadata": {},
   "outputs": [
    {
     "data": {
      "text/plain": [
       "['arri alexa 35']"
      ]
     },
     "execution_count": 144,
     "metadata": {},
     "output_type": "execute_result"
    }
   ],
   "source": [
    "user_input_list"
   ]
  },
  {
   "cell_type": "code",
   "execution_count": 145,
   "metadata": {},
   "outputs": [
    {
     "name": "stdout",
     "output_type": "stream",
     "text": [
      "['arri', 'alexa', '35']\n"
     ]
    }
   ],
   "source": [
    "for i in range(len(user_input_list)):\n",
    "\n",
    "    print(user_input_list[i].split(' '))"
   ]
  },
  {
   "cell_type": "code",
   "execution_count": 162,
   "metadata": {},
   "outputs": [],
   "source": [
    "# Function for matching products by token\n",
    "\n",
    "def find_matching_products(user_tokens, df):\n",
    "    \n",
    "    matching_products = []   \n",
    "\n",
    "    for idx, row in df.iterrows():\n",
    "\n",
    "        product_tokens = row['tokens']  # Tokens from product DataFrame\n",
    "        \n",
    "        similarity_score = fuzz.ratio(user_tokens, product_tokens)\n",
    "        \n",
    "        # Set a threshold for similarity scores\n",
    "        if similarity_score > 95:\n",
    "            matching_products.append({\n",
    "                'product_id': row['matched_id'],\n",
    "                'rental_place_id': row['rental_place_id']\n",
    "            })  \n",
    "            # Move to the next product\n",
    "\n",
    "    return matching_products\n",
    "\n",
    "# Retrieve detailed rental place information based on rental_place_id\n",
    "\n",
    "def get_rental_place_info(rental_place_id):\n",
    "    \n",
    "    rental_place_info = rentaldf[rentaldf['rental_place_id'] == str(rental_place_id)][['rental_place_name', 'address', 'email','phone','website']]\n",
    "    \n",
    "    return rental_place_info\n",
    "\n",
    "# Function to process user input and find matching products\n",
    "\n",
    "def process_user_input(user_input_list):\n",
    "    \n",
    "    for i in range(len(user_input_list)):\n",
    "        tokens = user_input_list[i].lower().split(' ')\n",
    "\n",
    "    # Iterate through each product DataFrame\n",
    "    for df in products_dataframes:\n",
    "\n",
    "        matching_products = find_matching_products(tokens, df)\n",
    "        \n",
    "        if matching_products:\n",
    "            for product in matching_products:\n",
    "                rental_place_id = product['rental_place_id']\n",
    "                rental_place_info = get_rental_place_info(rental_place_id)\n",
    "                \n",
    "                # Display or store rental place information\n",
    "                return rental_place_info\n",
    "            "
   ]
  },
  {
   "cell_type": "code",
   "execution_count": 163,
   "metadata": {},
   "outputs": [],
   "source": []
  },
  {
   "cell_type": "code",
   "execution_count": null,
   "metadata": {},
   "outputs": [],
   "source": []
  },
  {
   "cell_type": "code",
   "execution_count": null,
   "metadata": {},
   "outputs": [],
   "source": []
  }
 ],
 "metadata": {
  "kernelspec": {
   "display_name": "finalProject",
   "language": "python",
   "name": "python3"
  },
  "language_info": {
   "codemirror_mode": {
    "name": "ipython",
    "version": 3
   },
   "file_extension": ".py",
   "mimetype": "text/x-python",
   "name": "python",
   "nbconvert_exporter": "python",
   "pygments_lexer": "ipython3",
   "version": "3.11.5"
  }
 },
 "nbformat": 4,
 "nbformat_minor": 2
}
